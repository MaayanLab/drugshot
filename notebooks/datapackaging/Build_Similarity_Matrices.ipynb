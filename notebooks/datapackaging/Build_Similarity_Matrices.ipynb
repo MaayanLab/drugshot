{
 "cells": [
  {
   "cell_type": "markdown",
   "metadata": {},
   "source": [
    "### This script creates a .h5 file containing the co-expression and co-occurrence correlation matrices for Drugshot"
   ]
  },
  {
   "cell_type": "code",
   "execution_count": null,
   "metadata": {},
   "outputs": [],
   "source": [
    "import os\n",
    "import requests\n",
    "import time\n",
    "\n",
    "import pandas as pd\n",
    "import numpy as np\n",
    "import scipy.spatial.distance as dist\n",
    "import h5py as h5"
   ]
  },
  {
   "cell_type": "markdown",
   "metadata": {},
   "source": [
    "### Co-Expression"
   ]
  },
  {
   "cell_type": "code",
   "execution_count": null,
   "metadata": {},
   "outputs": [],
   "source": [
    "# Download L1000 compound-induced gene expression signatures\n",
    "download_link = 'https://appyters.maayanlab.cloud/storage/Drugmonizome_ML/SEP-L1000/LINCS_Gene_Experssion_signatures_CD.csv.gz'\n",
    "df = pd.read_csv(download_link).set_index('InChI Key')"
   ]
  },
  {
   "cell_type": "code",
   "execution_count": null,
   "metadata": {},
   "outputs": [],
   "source": [
    "L1000FWD_URL = 'http://amp.pharm.mssm.edu/L1000FWD/'\n",
    "L1000FWD_METADATA = 'L1000FWD/Drugs_metadata.csv'\n",
    "\n",
    "def _download_metadata():\n",
    "    \"\"\" Checks whether metadata file has been downloaded, and if not\n",
    "        downloads it from the L1000FWD downloads page.\n",
    "    \"\"\"\n",
    "    if not os.path.isfile(L1000FWD_METADATA):\n",
    "        if not os.path.exists('L1000FWD'):\n",
    "            os.mkdir('L1000FWD')\n",
    "        response = requests.get('https://maayanlab.cloud/L1000FWD/download/Drugs_metadata.csv', stream=True)\n",
    "        if response.status_code != 200:\n",
    "            raise Exception('This should not happen')\n",
    "        with open(L1000FWD_METADATA, 'wb') as outfile:\n",
    "            for chunk in response.iter_content(chunk_size=1024):\n",
    "                outfile.write(chunk)\n",
    "\n",
    "def get_drug_names(keys):\n",
    "    \"\"\" Given a list of drug InChI keys, converts them to a corresponding list of drug names.\n",
    "    \"\"\"\n",
    "    _download_metadata()\n",
    "    l1000meta_df = pd.read_csv(L1000FWD_METADATA, index_col=5)\n",
    "    l1000meta_df.index = l1000meta_df.index.map(lambda s: s.replace('InChIKey=', '') if isinstance(s, str) else s)\n",
    "    l1000meta_df = l1000meta_df.iloc[np.logical_not(l1000meta_df.index.duplicated())]\n",
    "\n",
    "    return list(l1000meta_df['pert_iname'].reindex(keys))"
   ]
  },
  {
   "cell_type": "code",
   "execution_count": null,
   "metadata": {},
   "outputs": [],
   "source": [
    "# Map InChI Keys to drug names\n",
    "df.index = get_drug_names(df.index)\n",
    "df = df.reset_index().dropna().set_index('index')\n",
    "df = df[~df.index.duplicated(keep='first')]"
   ]
  },
  {
   "cell_type": "code",
   "execution_count": null,
   "metadata": {},
   "outputs": [],
   "source": [
    "def similarity_matrix(df, metric, dtype=None, sparse=False):\n",
    "    '''\n",
    "    Creates a similarity matrix between the rows of the df based on\n",
    "    the metric specified. The resulting matrix has both rows and columns labeled\n",
    "    by the index of df.\n",
    "    '''\n",
    "    similarity_matrix = dist.pdist(df.to_numpy(dtype=dtype), metric)\n",
    "    similarity_matrix = dist.squareform(similarity_matrix)\n",
    "    similarity_matrix = 1 - similarity_matrix\n",
    "\n",
    "    similarity_df = pd.DataFrame(\n",
    "        data=similarity_matrix, index=df.index, columns=df.index)\n",
    "    \n",
    "    # Set diagonols to 0\n",
    "    np.fill_diagonal(similarity_df.values, float(\"NaN\"))\n",
    "    \n",
    "\n",
    "    similarity_df.index.name = None\n",
    "    similarity_df.columns.name = None\n",
    "    return similarity_df"
   ]
  },
  {
   "cell_type": "code",
   "execution_count": null,
   "metadata": {},
   "outputs": [],
   "source": [
    "coexpression = similarity_matrix(df, metric = 'cosine')"
   ]
  },
  {
   "cell_type": "code",
   "execution_count": null,
   "metadata": {},
   "outputs": [],
   "source": [
    "# h5 file\n",
    "f = h5.File('L1000_coexpression.h5', 'w')\n",
    "dset = f.create_dataset(\"data/matrix\", data=coexpression, dtype=np.float32)\n",
    "f.close()\n",
    "\n",
    "string_dt = h5.special_dtype(vlen=str)\n",
    "colids = np.array(coexpression.columns, dtype=object)\n",
    "\n",
    "f = h5.File('L1000_coexpression.h5', 'a')\n",
    "f.create_dataset(\"meta/colid\", data=colids, dtype=string_dt)\n",
    "f.close()"
   ]
  },
  {
   "cell_type": "code",
   "execution_count": null,
   "metadata": {},
   "outputs": [],
   "source": [
    "# npz format\n",
    "data = coexpression.to_numpy(dtype=np.float32)\n",
    "index = np.array(coexpression.index)\n",
    "columns = np.array(coexpression.columns)\n",
    "np.savez_compressed('L1000_similarity_matrix.npz', correlations=data, index=index)"
   ]
  },
  {
   "cell_type": "markdown",
   "metadata": {},
   "source": [
    "### Co-Occurrence"
   ]
  },
  {
   "cell_type": "markdown",
   "metadata": {},
   "source": [
    "The co-occurrence-matrix.tsv file is generated using Alex's cooccur.jar script"
   ]
  },
  {
   "cell_type": "code",
   "execution_count": null,
   "metadata": {},
   "outputs": [],
   "source": [
    "# Save decompressed drugrif file locally to be used in coocur.jar\n",
    "import gzip\n",
    "import urllib.request\n",
    "\n",
    "path = \"https://appyters.maayanlab.cloud/storage/DrugShot/DrugRIF.tsv.gz\"\n",
    "\n",
    "response = urllib.request.urlopen(path)\n",
    "with open('drugrif.tsv', 'wb') as outfile:\n",
    "    outfile.write(gzip.decompress(response.read()))"
   ]
  },
  {
   "cell_type": "code",
   "execution_count": null,
   "metadata": {},
   "outputs": [],
   "source": [
    "command = \"java -jar cooccur.jar -f drugrif.tsv -e 0 -p 2 -t 12 -o drugrif_cooccur.tsv\"\n",
    "os.system(command)"
   ]
  },
  {
   "cell_type": "code",
   "execution_count": null,
   "metadata": {},
   "outputs": [],
   "source": [
    "cooccur = pd.read_csv(\"drugrif_cooccur.tsv\", sep=\"\\t\")\n",
    "cooccur.index = cooccur.iloc[:,0]\n",
    "cooccur_clean = cooccur.iloc[:,1:]\n",
    "cooccur_clean.index.name = None"
   ]
  },
  {
   "cell_type": "code",
   "execution_count": null,
   "metadata": {},
   "outputs": [],
   "source": [
    "DrugRIF = pd.read_csv('drugrif.tsv', sep = '\\t')\n",
    "# Preserve cases of each name in DrugRIF\n",
    "lookup_dict = {}\n",
    "for x in DrugRIF['name'].tolist():\n",
    "    lookup_dict[x.upper()] = x\n",
    "\n",
    "cooccur_matrix = cooccur_clean.rename(columns = lookup_dict, index = lookup_dict)\n",
    "np.fill_diagonal(cooccur_matrix.values, 0)"
   ]
  },
  {
   "cell_type": "code",
   "execution_count": null,
   "metadata": {},
   "outputs": [],
   "source": [
    "f = h5.File('drugrif_cooccur.h5', 'w')\n",
    "dset = f.create_dataset(\"data/matrix\", data=cooccur_matrix, dtype=np.float32)\n",
    "f.close()\n",
    "\n",
    "string_dt = h5.special_dtype(vlen=str)\n",
    "colids = np.array(cooccur_matrix.columns, dtype=object)\n",
    "\n",
    "f = h5.File('drugrif_cooccur.h5', 'a')\n",
    "f.create_dataset(\"meta/colid\", data=colids, dtype=string_dt)\n",
    "f.close()"
   ]
  }
 ],
 "metadata": {
  "kernelspec": {
   "display_name": "DrugShot",
   "language": "python",
   "name": "drugshot"
  },
  "language_info": {
   "codemirror_mode": {
    "name": "ipython",
    "version": 3
   },
   "file_extension": ".py",
   "mimetype": "text/x-python",
   "name": "python",
   "nbconvert_exporter": "python",
   "pygments_lexer": "ipython3",
   "version": "3.8.3"
  }
 },
 "nbformat": 4,
 "nbformat_minor": 4
}
